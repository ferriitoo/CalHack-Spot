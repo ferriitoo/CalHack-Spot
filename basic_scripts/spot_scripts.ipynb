{
 "cells": [
  {
   "cell_type": "markdown",
   "metadata": {},
   "source": [
    "# BASIC SCRIPTING OF SPOT CAPABILITIES"
   ]
  },
  {
   "cell_type": "markdown",
   "metadata": {},
   "source": [
    "## Establish connection"
   ]
  },
  {
   "cell_type": "code",
   "execution_count": 1,
   "metadata": {},
   "outputs": [
    {
     "name": "stdout",
     "output_type": "stream",
     "text": [
      "Collecting bosdyn-client\n",
      "  Using cached bosdyn_client-3.3.2-py3-none-any.whl.metadata (3.9 kB)\n",
      "Collecting bosdyn-core\n",
      "  Using cached bosdyn_core-3.3.2-py3-none-any.whl.metadata (1.7 kB)\n",
      "Collecting bosdyn-api\n",
      "  Using cached bosdyn_api-3.3.2-py3-none-any.whl.metadata (1.6 kB)\n",
      "Collecting bosdyn-mission\n",
      "  Using cached bosdyn_mission-3.3.2-py3-none-any.whl.metadata (1.8 kB)\n",
      "Collecting grpcio (from bosdyn-client)\n",
      "  Downloading grpcio-1.59.0-cp38-cp38-macosx_10_10_universal2.whl.metadata (4.0 kB)\n",
      "Collecting pyjwt (from bosdyn-client)\n",
      "  Using cached PyJWT-2.8.0-py3-none-any.whl.metadata (4.2 kB)\n",
      "Collecting numpy (from bosdyn-client)\n",
      "  Downloading numpy-1.24.4-cp38-cp38-macosx_10_9_x86_64.whl.metadata (5.6 kB)\n",
      "Collecting Deprecated~=1.2.10 (from bosdyn-client)\n",
      "  Using cached Deprecated-1.2.14-py2.py3-none-any.whl.metadata (5.4 kB)\n",
      "Collecting requests>=2.26.0 (from bosdyn-client)\n",
      "  Downloading requests-2.31.0-py3-none-any.whl.metadata (4.6 kB)\n",
      "Collecting protobuf>=3.19.4 (from bosdyn-api)\n",
      "  Using cached protobuf-4.24.4-cp37-abi3-macosx_10_9_universal2.whl.metadata (540 bytes)\n",
      "Collecting wrapt<2,>=1.10 (from Deprecated~=1.2.10->bosdyn-client)\n",
      "  Downloading wrapt-1.15.0-cp38-cp38-macosx_10_9_x86_64.whl (35 kB)\n",
      "Collecting charset-normalizer<4,>=2 (from requests>=2.26.0->bosdyn-client)\n",
      "  Downloading charset_normalizer-3.3.1-cp38-cp38-macosx_10_9_x86_64.whl.metadata (33 kB)\n",
      "Collecting idna<4,>=2.5 (from requests>=2.26.0->bosdyn-client)\n",
      "  Downloading idna-3.4-py3-none-any.whl (61 kB)\n",
      "\u001b[2K     \u001b[90m━━━━━━━━━━━━━━━━━━━━━━━━━━━━━━━━━━━━━━━━\u001b[0m \u001b[32m61.5/61.5 kB\u001b[0m \u001b[31m1.3 MB/s\u001b[0m eta \u001b[36m0:00:00\u001b[0m00:01\u001b[0m\n",
      "\u001b[?25hCollecting urllib3<3,>=1.21.1 (from requests>=2.26.0->bosdyn-client)\n",
      "  Downloading urllib3-2.0.7-py3-none-any.whl.metadata (6.6 kB)\n",
      "Collecting certifi>=2017.4.17 (from requests>=2.26.0->bosdyn-client)\n",
      "  Downloading certifi-2023.7.22-py3-none-any.whl.metadata (2.2 kB)\n",
      "Using cached bosdyn_client-3.3.2-py3-none-any.whl (262 kB)\n",
      "Using cached bosdyn_core-3.3.2-py3-none-any.whl (31 kB)\n",
      "Using cached bosdyn_api-3.3.2-py3-none-any.whl (334 kB)\n",
      "Using cached bosdyn_mission-3.3.2-py3-none-any.whl (15 kB)\n",
      "Using cached Deprecated-1.2.14-py2.py3-none-any.whl (9.6 kB)\n",
      "Using cached protobuf-4.24.4-cp37-abi3-macosx_10_9_universal2.whl (409 kB)\n",
      "Downloading requests-2.31.0-py3-none-any.whl (62 kB)\n",
      "\u001b[2K   \u001b[90m━━━━━━━━━━━━━━━━━━━━━━━━━━━━━━━━━━━━━━━━\u001b[0m \u001b[32m62.6/62.6 kB\u001b[0m \u001b[31m1.7 MB/s\u001b[0m eta \u001b[36m0:00:00\u001b[0m\n",
      "\u001b[?25hDownloading grpcio-1.59.0-cp38-cp38-macosx_10_10_universal2.whl (9.6 MB)\n",
      "\u001b[2K   \u001b[90m━━━━━━━━━━━━━━━━━━━━━━━━━━━━━━━━━━━━━━━━\u001b[0m \u001b[32m9.6/9.6 MB\u001b[0m \u001b[31m3.3 MB/s\u001b[0m eta \u001b[36m0:00:00\u001b[0m00:01\u001b[0m00:01\u001b[0m\n",
      "\u001b[?25hDownloading numpy-1.24.4-cp38-cp38-macosx_10_9_x86_64.whl (19.8 MB)\n",
      "\u001b[2K   \u001b[90m━━━━━━━━━━━━━━━━━━━━━━━━━━━━━━━━━━━━━━━━\u001b[0m \u001b[32m19.8/19.8 MB\u001b[0m \u001b[31m3.4 MB/s\u001b[0m eta \u001b[36m0:00:00\u001b[0m00:01\u001b[0m00:01\u001b[0m\n",
      "\u001b[?25hUsing cached PyJWT-2.8.0-py3-none-any.whl (22 kB)\n",
      "Downloading certifi-2023.7.22-py3-none-any.whl (158 kB)\n",
      "\u001b[2K   \u001b[90m━━━━━━━━━━━━━━━━━━━━━━━━━━━━━━━━━━━━━━━━\u001b[0m \u001b[32m158.3/158.3 kB\u001b[0m \u001b[31m2.1 MB/s\u001b[0m eta \u001b[36m0:00:00\u001b[0ma \u001b[36m0:00:01\u001b[0m\n",
      "\u001b[?25hDownloading charset_normalizer-3.3.1-cp38-cp38-macosx_10_9_x86_64.whl (118 kB)\n",
      "\u001b[2K   \u001b[90m━━━━━━━━━━━━━━━━━━━━━━━━━━━━━━━━━━━━━━━━\u001b[0m \u001b[32m118.7/118.7 kB\u001b[0m \u001b[31m1.7 MB/s\u001b[0m eta \u001b[36m0:00:00\u001b[0ma \u001b[36m0:00:01\u001b[0m\n",
      "\u001b[?25hDownloading urllib3-2.0.7-py3-none-any.whl (124 kB)\n",
      "\u001b[2K   \u001b[90m━━━━━━━━━━━━━━━━━━━━━━━━━━━━━━━━━━━━━━━━\u001b[0m \u001b[32m124.2/124.2 kB\u001b[0m \u001b[31m2.2 MB/s\u001b[0m eta \u001b[36m0:00:00\u001b[0m00:01\u001b[0m\n",
      "\u001b[?25hInstalling collected packages: wrapt, urllib3, pyjwt, protobuf, numpy, idna, grpcio, charset-normalizer, certifi, requests, Deprecated, bosdyn-api, bosdyn-core, bosdyn-client, bosdyn-mission\n",
      "Successfully installed Deprecated-1.2.14 bosdyn-api-3.3.2 bosdyn-client-3.3.2 bosdyn-core-3.3.2 bosdyn-mission-3.3.2 certifi-2023.7.22 charset-normalizer-3.3.1 grpcio-1.59.0 idna-3.4 numpy-1.24.4 protobuf-4.24.4 pyjwt-2.8.0 requests-2.31.0 urllib3-2.0.7 wrapt-1.15.0\n"
     ]
    }
   ],
   "source": [
    "!pip install bosdyn-client bosdyn-core bosdyn-api bosdyn-mission"
   ]
  },
  {
   "cell_type": "code",
   "execution_count": 2,
   "metadata": {},
   "outputs": [
    {
     "ename": "ModuleNotFoundError",
     "evalue": "No module named 'bosdyn.client.spot'",
     "output_type": "error",
     "traceback": [
      "\u001b[0;31m---------------------------------------------------------------------------\u001b[0m",
      "\u001b[0;31mModuleNotFoundError\u001b[0m                       Traceback (most recent call last)",
      "\u001b[1;32m/Users/jferro/Desktop/work/repos/CalHack-Spot/spot_scripts.ipynb Cell 4\u001b[0m line \u001b[0;36m2\n\u001b[1;32m      <a href='vscode-notebook-cell:/Users/jferro/Desktop/work/repos/CalHack-Spot/spot_scripts.ipynb#W2sZmlsZQ%3D%3D?line=0'>1</a>\u001b[0m \u001b[39mfrom\u001b[39;00m \u001b[39mbosdyn\u001b[39;00m\u001b[39m.\u001b[39;00m\u001b[39mclient\u001b[39;00m \u001b[39mimport\u001b[39;00m Robot\n\u001b[0;32m----> <a href='vscode-notebook-cell:/Users/jferro/Desktop/work/repos/CalHack-Spot/spot_scripts.ipynb#W2sZmlsZQ%3D%3D?line=1'>2</a>\u001b[0m \u001b[39mfrom\u001b[39;00m \u001b[39mbosdyn\u001b[39;00m\u001b[39m.\u001b[39;00m\u001b[39mclient\u001b[39;00m\u001b[39m.\u001b[39;00m\u001b[39mspot\u001b[39;00m \u001b[39mimport\u001b[39;00m Spot\n\u001b[1;32m      <a href='vscode-notebook-cell:/Users/jferro/Desktop/work/repos/CalHack-Spot/spot_scripts.ipynb#W2sZmlsZQ%3D%3D?line=3'>4</a>\u001b[0m \u001b[39m# Replace these with your robot's information\u001b[39;00m\n\u001b[1;32m      <a href='vscode-notebook-cell:/Users/jferro/Desktop/work/repos/CalHack-Spot/spot_scripts.ipynb#W2sZmlsZQ%3D%3D?line=4'>5</a>\u001b[0m robot_ip \u001b[39m=\u001b[39m \u001b[39m\"\u001b[39m\u001b[39m192.168.80.3\u001b[39m\u001b[39m\"\u001b[39m\n",
      "\u001b[0;31mModuleNotFoundError\u001b[0m: No module named 'bosdyn.client.spot'"
     ]
    }
   ],
   "source": [
    "from bosdyn.client import Robot\n",
    "from bosdyn.client.spot import Spot\n",
    "\n",
    "# Replace these with your robot's information\n",
    "robot_ip = \"192.168.80.3\"\n",
    "username = \"spot\"\n",
    "password = \"Merkleb0t\"\n",
    "\n",
    "# Create a Robot object\n",
    "robot = Robot(robot_ip)\n",
    "robot.authenticate(username, password)\n",
    "\n",
    "# Create a Spot object for interacting with Spot-specific features\n",
    "spot = robot.ensure_client(Spot.client_name)\n"
   ]
  },
  {
   "cell_type": "markdown",
   "metadata": {},
   "source": [
    "spot-BD-02300008     02-20224-6c62   strelka    spot (V3)\n",
    " Software: 3.3.2 (5ce893f904ec34e2e31f2aea32602bd3bb0e8124 2023-09-11 10:54:05)"
   ]
  },
  {
   "cell_type": "markdown",
   "metadata": {},
   "source": [
    "## Basic info about robot status"
   ]
  },
  {
   "cell_type": "code",
   "execution_count": null,
   "metadata": {},
   "outputs": [],
   "source": [
    "# Get the robot state\n",
    "robot_state = robot.get_robot_state()\n",
    "\n",
    "# Access robot information\n",
    "print(f\"Robot Pose: {robot_state.kinematic_state.pose}\")\n",
    "print(f\"Battery Voltage: {robot_state.power_state.battery_voltage}\")\n"
   ]
  },
  {
   "cell_type": "markdown",
   "metadata": {},
   "source": [
    "## Control the robot"
   ]
  },
  {
   "cell_type": "code",
   "execution_count": null,
   "metadata": {},
   "outputs": [],
   "source": [
    "from bosdyn.client.spot import power_command_pb2\n",
    "\n",
    "# Command Spot to stand\n",
    "stand_command = power_command_pb2.StandCommand.Request()\n",
    "spot.power_command(stand_command)\n"
   ]
  },
  {
   "cell_type": "markdown",
   "metadata": {},
   "source": [
    "## Robot locomation"
   ]
  },
  {
   "cell_type": "code",
   "execution_count": null,
   "metadata": {},
   "outputs": [],
   "source": [
    "from bosdyn.client.lease import LeaseClient\n",
    "from bosdyn.api import trajectory_pb2\n",
    "\n",
    "# Acquire a lease to control the robot\n",
    "lease_client = robot.ensure_client(LeaseClient.default_service_name)\n",
    "lease = lease_client.acquire()\n",
    "\n",
    "# Create a trajectory for walking forward\n",
    "forward_trajectory = trajectory_pb2.Trajectory(  # Define your desired trajectory\n",
    "    sequence=[...]\n",
    ")\n",
    "\n",
    "# Execute the trajectory\n",
    "spot.robot_command(client=robot, command=forward_trajectory)\n",
    "\n",
    "# Release the lease when done\n",
    "lease_client.return_lease(lease)\n"
   ]
  },
  {
   "cell_type": "markdown",
   "metadata": {},
   "source": [
    "# MOVE_TEST.py"
   ]
  },
  {
   "cell_type": "code",
   "execution_count": null,
   "metadata": {},
   "outputs": [],
   "source": [
    "import bosdyn.client\n",
    "from bosdyn.client.robot_command import RobotCommandClient, blocking_stand\n",
    "from bosdyn.client.robot_command import RobotCommandBuilder\n",
    "from bosdyn.geometry import EulerZXY\n",
    "import time\n",
    "\n",
    "# ENTER YOUR AUTH DATA HERE\n",
    "ROBOT_IP=\"192.168.50.3\"\n",
    "# ROBOT_IP=\"localhost:2000\"\n",
    "SPOT_PASSWORD = \"2zqa8dgw7lor\"\n",
    "SPOT_USERNAME = \"admin\"\n",
    "\n",
    "\n",
    "# Helpers to control camera drawing (you don't need to modify it)\n",
    "\n",
    "# Start with registering out SDK\n",
    "sdk = bosdyn.client.create_standard_sdk('LessonOneClient')\n",
    "\n",
    "# Create instance of robot and auth with credentials\n",
    "robot = sdk.create_robot(ROBOT_IP)\n",
    "robot.authenticate(SPOT_USERNAME, SPOT_PASSWORD)\n",
    "\n",
    "# Create lease client and take exclusive control over Spot.\n",
    "lease_client = robot.ensure_client('lease')\n",
    "lease = lease_client.take()\n",
    "lease_keep_alive = bosdyn.client.lease.LeaseKeepAlive(lease_client)\n",
    "\n",
    "# Try to power on the robot\n",
    "robot.power_on(timeout_sec=20)\n",
    "if robot.is_powered_on():\n",
    "    print(\"Powered On\")\n",
    "        # If everything went smooth, Spot face lights should turn green\n",
    "else:\n",
    "        # In case of some problems, e.g. somebody stole control over robot\n",
    "    print(\"Failed\")\n",
    "    exit(0)\n",
    "\n",
    "# Synchronize Spor inner time with ours - to avoid outdated commands\n",
    "robot.time_sync.wait_for_sync()\n",
    "\n",
    "# To execute robot movement, create command client through which orders are sent\n",
    "command_client = robot.ensure_client(RobotCommandClient.default_service_name)\n",
    "\n",
    "# Start movement with simple stand up\n",
    "blocking_stand(command_client, timeout_sec=10)\n",
    "\n",
    "# footprint_R_body = EulerZXY(yaw=0.1, roll=0.1, pitch=0.1)\n",
    "# cmd = RobotCommandBuilder.synchro_stand_command(footprint_R_body=footprint_R_body)\n",
    "# command_client.robot_command(cmd)\n",
    "\n",
    "cmd = RobotCommandBuilder.synchro_velocity_command(-0.2, -0.2, 0)\n",
    "command_client.robot_command(cmd, end_time_secs=time.time() + 5)\n",
    "time.sleep(8)\n",
    "cmd = RobotCommandBuilder.synchro_velocity_command(0, 0, 0)\n",
    "# command_client.robot_command(cmd, timeout=10)\n",
    "time.sleep(5)\n",
    "# Turn off the robot gracefully\n",
    "# robot.power_off(cut_immediately=False)"
   ]
  },
  {
   "cell_type": "code",
   "execution_count": 4,
   "metadata": {},
   "outputs": [
    {
     "ename": "FileNotFoundError",
     "evalue": "[Errno 2] No such file or directory: 'ffplay'",
     "output_type": "error",
     "traceback": [
      "\u001b[0;31m---------------------------------------------------------------------------\u001b[0m",
      "\u001b[0;31mFileNotFoundError\u001b[0m                         Traceback (most recent call last)",
      "\u001b[1;32m/Users/jferro/Desktop/work/repos/CalHack-Spot/spot_scripts.ipynb Cell 14\u001b[0m line \u001b[0;36m1\n\u001b[1;32m     <a href='vscode-notebook-cell:/Users/jferro/Desktop/work/repos/CalHack-Spot/spot_scripts.ipynb#X20sZmlsZQ%3D%3D?line=10'>11</a>\u001b[0m ssh_command \u001b[39m=\u001b[39m (\n\u001b[1;32m     <a href='vscode-notebook-cell:/Users/jferro/Desktop/work/repos/CalHack-Spot/spot_scripts.ipynb#X20sZmlsZQ%3D%3D?line=11'>12</a>\u001b[0m     \u001b[39mf\u001b[39m\u001b[39m\"\u001b[39m\u001b[39msshpass -p \u001b[39m\u001b[39m{\u001b[39;00mrobot_password\u001b[39m}\u001b[39;00m\u001b[39m ssh \u001b[39m\u001b[39m{\u001b[39;00mrobot_username\u001b[39m}\u001b[39;00m\u001b[39m@\u001b[39m\u001b[39m{\u001b[39;00mrobot_ip\u001b[39m}\u001b[39;00m\u001b[39m \u001b[39m\u001b[39m\"\u001b[39m\n\u001b[1;32m     <a href='vscode-notebook-cell:/Users/jferro/Desktop/work/repos/CalHack-Spot/spot_scripts.ipynb#X20sZmlsZQ%3D%3D?line=12'>13</a>\u001b[0m     \u001b[39m\"\u001b[39m\u001b[39m'\u001b[39m\u001b[39mffmpeg -f v4l2 -video_size 1280x720 -i /dev/video0 -f mpegts -codec:v mpeg1video -s 1280x720 -b:v 800k -bf 0 -r 30 - | tee -a /dev/null\u001b[39m\u001b[39m'\u001b[39m\u001b[39m\"\u001b[39m\n\u001b[1;32m     <a href='vscode-notebook-cell:/Users/jferro/Desktop/work/repos/CalHack-Spot/spot_scripts.ipynb#X20sZmlsZQ%3D%3D?line=13'>14</a>\u001b[0m )\n\u001b[1;32m     <a href='vscode-notebook-cell:/Users/jferro/Desktop/work/repos/CalHack-Spot/spot_scripts.ipynb#X20sZmlsZQ%3D%3D?line=15'>16</a>\u001b[0m \u001b[39m# Open a local video player to display the stream\u001b[39;00m\n\u001b[0;32m---> <a href='vscode-notebook-cell:/Users/jferro/Desktop/work/repos/CalHack-Spot/spot_scripts.ipynb#X20sZmlsZQ%3D%3D?line=16'>17</a>\u001b[0m video_player \u001b[39m=\u001b[39m subprocess\u001b[39m.\u001b[39;49mPopen([\u001b[39m\"\u001b[39;49m\u001b[39mffplay\u001b[39;49m\u001b[39m\"\u001b[39;49m, \u001b[39m\"\u001b[39;49m\u001b[39m-\u001b[39;49m\u001b[39m\"\u001b[39;49m])\n\u001b[1;32m     <a href='vscode-notebook-cell:/Users/jferro/Desktop/work/repos/CalHack-Spot/spot_scripts.ipynb#X20sZmlsZQ%3D%3D?line=18'>19</a>\u001b[0m \u001b[39m# Start the SSH command to stream video\u001b[39;00m\n\u001b[1;32m     <a href='vscode-notebook-cell:/Users/jferro/Desktop/work/repos/CalHack-Spot/spot_scripts.ipynb#X20sZmlsZQ%3D%3D?line=19'>20</a>\u001b[0m ssh_process \u001b[39m=\u001b[39m subprocess\u001b[39m.\u001b[39mPopen(ssh_command, shell\u001b[39m=\u001b[39m\u001b[39mTrue\u001b[39;00m)\n",
      "File \u001b[0;32m~/miniconda3/envs/py38/lib/python3.8/subprocess.py:858\u001b[0m, in \u001b[0;36mPopen.__init__\u001b[0;34m(self, args, bufsize, executable, stdin, stdout, stderr, preexec_fn, close_fds, shell, cwd, env, universal_newlines, startupinfo, creationflags, restore_signals, start_new_session, pass_fds, encoding, errors, text)\u001b[0m\n\u001b[1;32m    854\u001b[0m         \u001b[39mif\u001b[39;00m \u001b[39mself\u001b[39m\u001b[39m.\u001b[39mtext_mode:\n\u001b[1;32m    855\u001b[0m             \u001b[39mself\u001b[39m\u001b[39m.\u001b[39mstderr \u001b[39m=\u001b[39m io\u001b[39m.\u001b[39mTextIOWrapper(\u001b[39mself\u001b[39m\u001b[39m.\u001b[39mstderr,\n\u001b[1;32m    856\u001b[0m                     encoding\u001b[39m=\u001b[39mencoding, errors\u001b[39m=\u001b[39merrors)\n\u001b[0;32m--> 858\u001b[0m     \u001b[39mself\u001b[39;49m\u001b[39m.\u001b[39;49m_execute_child(args, executable, preexec_fn, close_fds,\n\u001b[1;32m    859\u001b[0m                         pass_fds, cwd, env,\n\u001b[1;32m    860\u001b[0m                         startupinfo, creationflags, shell,\n\u001b[1;32m    861\u001b[0m                         p2cread, p2cwrite,\n\u001b[1;32m    862\u001b[0m                         c2pread, c2pwrite,\n\u001b[1;32m    863\u001b[0m                         errread, errwrite,\n\u001b[1;32m    864\u001b[0m                         restore_signals, start_new_session)\n\u001b[1;32m    865\u001b[0m \u001b[39mexcept\u001b[39;00m:\n\u001b[1;32m    866\u001b[0m     \u001b[39m# Cleanup if the child failed starting.\u001b[39;00m\n\u001b[1;32m    867\u001b[0m     \u001b[39mfor\u001b[39;00m f \u001b[39min\u001b[39;00m \u001b[39mfilter\u001b[39m(\u001b[39mNone\u001b[39;00m, (\u001b[39mself\u001b[39m\u001b[39m.\u001b[39mstdin, \u001b[39mself\u001b[39m\u001b[39m.\u001b[39mstdout, \u001b[39mself\u001b[39m\u001b[39m.\u001b[39mstderr)):\n",
      "File \u001b[0;32m~/miniconda3/envs/py38/lib/python3.8/subprocess.py:1720\u001b[0m, in \u001b[0;36mPopen._execute_child\u001b[0;34m(self, args, executable, preexec_fn, close_fds, pass_fds, cwd, env, startupinfo, creationflags, shell, p2cread, p2cwrite, c2pread, c2pwrite, errread, errwrite, restore_signals, start_new_session)\u001b[0m\n\u001b[1;32m   1718\u001b[0m     \u001b[39mif\u001b[39;00m errno_num \u001b[39m!=\u001b[39m \u001b[39m0\u001b[39m:\n\u001b[1;32m   1719\u001b[0m         err_msg \u001b[39m=\u001b[39m os\u001b[39m.\u001b[39mstrerror(errno_num)\n\u001b[0;32m-> 1720\u001b[0m     \u001b[39mraise\u001b[39;00m child_exception_type(errno_num, err_msg, err_filename)\n\u001b[1;32m   1721\u001b[0m \u001b[39mraise\u001b[39;00m child_exception_type(err_msg)\n",
      "\u001b[0;31mFileNotFoundError\u001b[0m: [Errno 2] No such file or directory: 'ffplay'"
     ]
    }
   ],
   "source": [
    "import subprocess\n",
    "\n",
    "# SSH connection information\n",
    "robot_ip=\"192.168.50.3\"\n",
    "# ROBOT_IP=\"localhost:2000\"\n",
    "robot_username = \"admin\"\n",
    "robot_password = \"2zqa8dgw7lor\"\n",
    "\n",
    "\n",
    "# SSH command to start streaming and forwarding the camera feed\n",
    "ssh_command = (\n",
    "    f\"sshpass -p {robot_password} ssh {robot_username}@{robot_ip} \"\n",
    "    \"'ffmpeg -f v4l2 -video_size 1280x720 -i /dev/video0 -f mpegts -codec:v mpeg1video -s 1280x720 -b:v 800k -bf 0 -r 30 - | tee -a /dev/null'\"\n",
    ")\n",
    "\n",
    "# Open a local video player to display the stream\n",
    "video_player = subprocess.Popen([\"ffplay\", \"-\"])\n",
    "\n",
    "# Start the SSH command to stream video\n",
    "ssh_process = subprocess.Popen(ssh_command, shell=True)\n",
    "\n",
    "# Wait for the user to press Enter to stop streaming\n",
    "input(\"Press Enter to stop streaming...\")\n",
    "\n",
    "# Terminate the SSH and video player processes\n",
    "ssh_process.terminate()\n",
    "video_player.terminate()\n"
   ]
  },
  {
   "cell_type": "code",
   "execution_count": null,
   "metadata": {},
   "outputs": [],
   "source": []
  }
 ],
 "metadata": {
  "kernelspec": {
   "display_name": "Python 3",
   "language": "python",
   "name": "python3"
  },
  "language_info": {
   "codemirror_mode": {
    "name": "ipython",
    "version": 3
   },
   "file_extension": ".py",
   "mimetype": "text/x-python",
   "name": "python",
   "nbconvert_exporter": "python",
   "pygments_lexer": "ipython3",
   "version": "3.8.18"
  }
 },
 "nbformat": 4,
 "nbformat_minor": 2
}
